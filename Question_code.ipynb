{
 "cells": [
  {
   "cell_type": "code",
   "execution_count": null,
   "id": "b0376a58-e8f4-470f-bf36-d79fca737532",
   "metadata": {},
   "outputs": [],
   "source": [
    "#Read the data set"
   ]
  },
  {
   "cell_type": "code",
   "execution_count": null,
   "id": "fbdaff71-e645-4059-93c1-f26c47760aa2",
   "metadata": {},
   "outputs": [],
   "source": [
    "#What is the distribution of heart failure patient in the dataset.\n",
    "\n",
    "#code to make dplot"
   ]
  },
  {
   "cell_type": "code",
   "execution_count": null,
   "id": "902a4ca4-5f23-4fb4-a85d-d50bf74193a3",
   "metadata": {},
   "outputs": [],
   "source": [
    "# How does the death rate vary with age."
   ]
  },
  {
   "cell_type": "code",
   "execution_count": null,
   "id": "44d20458-dd31-466f-b892-72913bf78f20",
   "metadata": {},
   "outputs": [],
   "source": [
    "# code\n",
    "\n",
    "\n",
    "# code"
   ]
  },
  {
   "cell_type": "code",
   "execution_count": null,
   "id": "f094e15a-ff15-46c8-bceb-e2a81c50a289",
   "metadata": {},
   "outputs": [],
   "source": [
    "# insights\n"
   ]
  },
  {
   "cell_type": "code",
   "execution_count": null,
   "id": "0ce22303-59d2-403c-b091-a8ec5d8f69e4",
   "metadata": {},
   "outputs": [],
   "source": []
  },
  {
   "cell_type": "code",
   "execution_count": null,
   "id": "5d8b65ff-2bd3-4d50-a2be-5d440cbcbaa3",
   "metadata": {},
   "outputs": [],
   "source": []
  }
 ],
 "metadata": {
  "kernelspec": {
   "display_name": "Python 3 (ipykernel)",
   "language": "python",
   "name": "python3"
  },
  "language_info": {
   "codemirror_mode": {
    "name": "ipython",
    "version": 3
   },
   "file_extension": ".py",
   "mimetype": "text/x-python",
   "name": "python",
   "nbconvert_exporter": "python",
   "pygments_lexer": "ipython3",
   "version": "3.10.8"
  }
 },
 "nbformat": 4,
 "nbformat_minor": 5
}
